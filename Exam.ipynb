{
 "cells": [
  {
   "cell_type": "markdown",
   "metadata": {},
   "source": [
    "## 请大家认真完成下面题目，成绩60分以上会有奖励。"
   ]
  },
  {
   "cell_type": "markdown",
   "metadata": {
    "ExecuteTime": {
     "end_time": "2020-03-30T08:20:52.388916Z",
     "start_time": "2020-03-30T08:20:52.383929Z"
    }
   },
   "source": [
    "### 1、常见的信用评分卡——A卡、B卡、C卡的区别是什么？（15）"
   ]
  },
  {
   "cell_type": "code",
   "execution_count": null,
   "metadata": {},
   "outputs": [],
   "source": [
    "答：A卡：申请评分卡，B卡：行为评分卡，C卡：催收评分卡\n",
    "不同评分卡之间的区别在于：\n",
    "1.针对时间不同，侧重点分别为贷前、贷中、贷后；\n",
    "2.数据要求不同。A卡一般可做贷款0-1年的信用分析，B卡则是在申请人有了一定行为后，有了较大数据进行的分析，一般为3-5年，C卡则对数据要求更大，需加入催收后客户反应等属性数据。\n",
    "3.每种评分卡的模型会不一样。在A卡中常用的有逻辑回归，AHP等，而在后面两种卡中，常使用多因素逻辑回归，精度等方面更好。\n"
   ]
  },
  {
   "cell_type": "markdown",
   "metadata": {
    "ExecuteTime": {
     "end_time": "2020-03-30T08:21:20.949221Z",
     "start_time": "2020-03-30T08:21:20.873424Z"
    }
   },
   "source": [
    "### 2、请写出WOE及IV的计算公式。（10）"
   ]
  },
  {
   "cell_type": "raw",
   "metadata": {},
   "source": [
    "P(yi)代表第i组中，违约样本占所有违约样本的比例；\n",
    "\n",
    "P(ni)代表第i组中，未违约样本占所有未违约样本比例；\n",
    "\n",
    "y：所有违约样本数；\n",
    "\n",
    "n：所有未违约样本数\n",
    "woe=ln(P(yi)/P(ni))=ln((yi/y)/(ni/n))\n",
    "IV=log()"
   ]
  },
  {
   "cell_type": "markdown",
   "metadata": {},
   "source": [
    "### 3、逻辑回归L1正则化和L2正则化的区别。（15）"
   ]
  },
  {
   "cell_type": "markdown",
   "metadata": {},
   "source": []
  },
  {
   "cell_type": "markdown",
   "metadata": {},
   "source": [
    "### 4、请写出Filter法、Wrapper法、Embedded法三种特征选择方法的主要思想并举例。（15）"
   ]
  },
  {
   "cell_type": "markdown",
   "metadata": {},
   "source": [
    "### 5、请详细描述下KS曲线和ROC曲线的区别。（15）"
   ]
  },
  {
   "cell_type": "markdown",
   "metadata": {},
   "source": [
    "### 6、请写出二分类交叉熵的损失函数。（10）"
   ]
  },
  {
   "cell_type": "markdown",
   "metadata": {},
   "source": [
    "### 7、总结下回归树的建模流程？（20）"
   ]
  }
 ],
 "metadata": {
  "kernelspec": {
   "display_name": "Python 3",
   "language": "python",
   "name": "python3"
  },
  "language_info": {
   "codemirror_mode": {
    "name": "ipython",
    "version": 3
   },
   "file_extension": ".py",
   "mimetype": "text/x-python",
   "name": "python",
   "nbconvert_exporter": "python",
   "pygments_lexer": "ipython3",
   "version": "3.7.3"
  },
  "toc": {
   "base_numbering": 1,
   "nav_menu": {},
   "number_sections": true,
   "sideBar": true,
   "skip_h1_title": false,
   "title_cell": "Table of Contents",
   "title_sidebar": "Contents",
   "toc_cell": false,
   "toc_position": {},
   "toc_section_display": true,
   "toc_window_display": false
  }
 },
 "nbformat": 4,
 "nbformat_minor": 2
}
